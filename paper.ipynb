{
 "cells": [
  {
   "cell_type": "markdown",
   "id": "2d1bb876-490f-4700-a805-6542d3defa41",
   "metadata": {},
   "source": [
    "# Example 3"
   ]
  },
  {
   "cell_type": "code",
   "execution_count": 6,
   "id": "0551db0f-374a-40bd-9de6-1916949e3010",
   "metadata": {},
   "outputs": [],
   "source": [
    "import numpy as np\n",
    "a = np.random.random((5,5))"
   ]
  },
  {
   "cell_type": "code",
   "execution_count": 7,
   "id": "2c4c2e7c-08ca-48a4-a0b1-8ee62b67de4e",
   "metadata": {},
   "outputs": [
    {
     "data": {
      "text/plain": [
       "array([[0.8925196 , 0.31148522, 0.12862572, 0.30436038, 0.24571335],\n",
       "       [0.06482846, 0.82234858, 0.80907072, 0.48300942, 0.89760083],\n",
       "       [0.44151922, 0.67883616, 0.91520786, 0.89629187, 0.61865409],\n",
       "       [0.10040973, 0.03347811, 0.31709327, 0.49283021, 0.02949899],\n",
       "       [0.81339816, 0.59047716, 0.52846644, 0.80257726, 0.34626219]])"
      ]
     },
     "execution_count": 7,
     "metadata": {},
     "output_type": "execute_result"
    }
   ],
   "source": [
    "a"
   ]
  },
  {
   "cell_type": "code",
   "execution_count": null,
   "id": "0c4fdd15-407c-422d-86ec-c5eb943b003a",
   "metadata": {},
   "outputs": [],
   "source": []
  }
 ],
 "metadata": {
  "kernelspec": {
   "display_name": "Python 3 (ipykernel)",
   "language": "python",
   "name": "python3"
  },
  "language_info": {
   "codemirror_mode": {
    "name": "ipython",
    "version": 3
   },
   "file_extension": ".py",
   "mimetype": "text/x-python",
   "name": "python",
   "nbconvert_exporter": "python",
   "pygments_lexer": "ipython3",
   "version": "3.10.12"
  }
 },
 "nbformat": 4,
 "nbformat_minor": 5
}
